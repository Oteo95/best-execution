{
 "cells": [
  {
   "cell_type": "code",
   "execution_count": null,
   "id": "055d6e27-f684-4785-9919-2b5fba79ee6f",
   "metadata": {
    "tags": []
   },
   "outputs": [],
   "source": [
    "import sys\n",
    "sys.path.append(\"../src\")\n",
    "from agents.dqn import DDQNAgent\n",
    "from be_env.base_env import BestExecutionEnv\n",
    "from be_env.twap_env import TwapEnv\n",
    "from be_env.train import TrainTabularAgent\n",
    "import pickle\n",
    "\n",
    "\"\"\"\n",
    "    Agent Params\n",
    "\"\"\"\n",
    "epsilon = 1\n",
    "min_epsilon = 0.05\n",
    "gamma = 1\n",
    "alpha = 0.0001\n",
    "buffer_size = 50000\n",
    "batch_size = 400\n",
    "hidden_neurons = 256\n",
    "\n",
    "\"\"\"\n",
    "    Training Params\n",
    "\"\"\"\n",
    "nepisodes = 1500\n",
    "n_log = 25\n",
    "epsilon_decay = (epsilon - min_epsilon) / (nepisodes * 0.95)\n",
    "learn_after = batch_size\n",
    "\"\"\"\n",
    "    Data\n",
    "\"\"\"\n",
    "with open(\"../data/rep_data.pickle\", \"rb\") as f:\n",
    "    df = pickle.load(f)\n",
    "data = df[\"train\"]\n",
    "\n",
    "\n",
    "\"\"\"\n",
    "    Process\n",
    "\"\"\"\n",
    "env = TwapEnv(data, 60)\n",
    "agent = DDQNAgent(\n",
    "    env, gamma=gamma, epsilon=epsilon, alpha=alpha,\n",
    "    batch_size=batch_size, buffer_size=buffer_size,\n",
    "    hidden_neurons=hidden_neurons, trainable=True\n",
    ")\n",
    "\n",
    "tba = TrainTabularAgent(\n",
    "    agent=agent,\n",
    "    env=env,\n",
    "    buffer=buffer_size,\n",
    "    nepisodes=nepisodes,\n",
    "    n_log=n_log\n",
    ")\n",
    "\n",
    "tba.fill_buffer(strategy=\"twap\")\n",
    "tba.run_process(\n",
    "    epsilon_decay=epsilon_decay,\n",
    "    min_epsilon=min_epsilon,\n",
    "    learn_after=learn_after\n",
    ")\n"
   ]
  },
  {
   "cell_type": "code",
   "execution_count": null,
   "id": "7495f592-6ce3-45bb-99a9-214d1711a551",
   "metadata": {},
   "outputs": [],
   "source": [
    "tba.plot_policy_results(df[\"test\"])"
   ]
  }
 ],
 "metadata": {
  "kernelspec": {
   "display_name": "Python 3 (ipykernel)",
   "language": "python",
   "name": "python3"
  },
  "language_info": {
   "codemirror_mode": {
    "name": "ipython",
    "version": 3
   },
   "file_extension": ".py",
   "mimetype": "text/x-python",
   "name": "python",
   "nbconvert_exporter": "python",
   "pygments_lexer": "ipython3",
   "version": "3.8.12"
  }
 },
 "nbformat": 4,
 "nbformat_minor": 5
}
